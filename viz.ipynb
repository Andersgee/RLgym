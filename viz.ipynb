{
 "cells": [
  {
   "cell_type": "code",
   "execution_count": 1,
   "metadata": {
    "collapsed": false
   },
   "outputs": [],
   "source": [
    "using Flux\n",
    "using Distributions: wsample, std, mean\n",
    "using LinearAlgebra\n",
    "using Gym\n",
    "import JLD\n",
    "\n",
    "include(\"common.jl\")\n",
    "include(\"model.jl\")\n",
    "\n",
    "#env = GymEnv(\"LunarLanderContinuous-v2\");\n",
    "env = GymEnv(\"LunarLander-v2\");"
   ]
  },
  {
   "cell_type": "code",
   "execution_count": null,
   "metadata": {
    "collapsed": false
   },
   "outputs": [
    {
     "name": "stdout",
     "output_type": "stream",
     "text": [
      "reloading\n"
     ]
    }
   ],
   "source": [
    "#visualize \n",
    "reloadevery=5\n",
    "while true\n",
    "    println(\"reloading\")\n",
    "    amodel=JLD.load(\"amodel.jld\")\n",
    "    for episode=1:reloadevery\n",
    "        x = reset!(env)\n",
    "        while true\n",
    "            render(env)\n",
    "            logitp = actor(x, amodel)\n",
    "            action = wsample(softmax(logitp.data)[:])\n",
    "            x, reward, done, information = step!(env, action-1)\n",
    "            if done; break; end\n",
    "        end\n",
    "    end\n",
    "end"
   ]
  }
 ],
 "metadata": {
  "kernelspec": {
   "display_name": "Julia 1.0.1",
   "language": "julia",
   "name": "julia-1.0"
  },
  "language_info": {
   "file_extension": ".jl",
   "mimetype": "application/julia",
   "name": "julia",
   "version": "1.0.1"
  }
 },
 "nbformat": 4,
 "nbformat_minor": 2
}
