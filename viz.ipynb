{
 "cells": [
  {
   "cell_type": "code",
   "execution_count": 1,
   "metadata": {
    "collapsed": false
   },
   "outputs": [],
   "source": [
    "using Flux\n",
    "using Distributions: wsample, std, mean\n",
    "using LinearAlgebra\n",
    "using Gym\n",
    "import JLD"
   ]
  },
  {
   "cell_type": "code",
   "execution_count": 2,
   "metadata": {
    "collapsed": false
   },
   "outputs": [],
   "source": [
    "#?elu"
   ]
  },
  {
   "cell_type": "code",
   "execution_count": 3,
   "metadata": {
    "collapsed": false
   },
   "outputs": [
    {
     "name": "stdout",
     "output_type": "stream",
     "text": [
      "search: \u001b[0m\u001b[1ml\u001b[22m\u001b[0m\u001b[1me\u001b[22m\u001b[0m\u001b[1ma\u001b[22m\u001b[0m\u001b[1mk\u001b[22m\u001b[0m\u001b[1my\u001b[22m\u001b[0m\u001b[1mr\u001b[22m\u001b[0m\u001b[1me\u001b[22m\u001b[0m\u001b[1ml\u001b[22m\u001b[0m\u001b[1mu\u001b[22m\n",
      "\n"
     ]
    },
    {
     "data": {
      "text/markdown": [
       "```\n",
       "leakyrelu(x) = max(0.01x, x)\n",
       "```\n",
       "\n",
       "Leaky [Rectified Linear Unit](https://en.wikipedia.org/wiki/Rectifier_(neural_networks)) activation function. You can also specify the coefficient explicitly, e.g. `leakyrelu(x, 0.01)`.\n"
      ],
      "text/plain": [
       "\u001b[36m  leakyrelu(x) = max(0.01x, x)\u001b[39m\n",
       "\n",
       "  Leaky Rectified Linear Unit\n",
       "  (https://en.wikipedia.org/wiki/Rectifier_(neural_networks)) activation\n",
       "  function. You can also specify the coefficient explicitly, e.g. \u001b[36mleakyrelu(x,\n",
       "  0.01)\u001b[39m."
      ]
     },
     "execution_count": 3,
     "metadata": {},
     "output_type": "execute_result"
    }
   ],
   "source": [
    "?leakyrelu"
   ]
  },
  {
   "cell_type": "code",
   "execution_count": 4,
   "metadata": {
    "collapsed": false
   },
   "outputs": [
    {
     "data": {
      "text/plain": [
       "haar (generic function with 1 method)"
      ]
     },
     "execution_count": 4,
     "metadata": {},
     "output_type": "execute_result"
    }
   ],
   "source": [
    "include(\"model.jl\")"
   ]
  },
  {
   "cell_type": "code",
   "execution_count": 5,
   "metadata": {
    "collapsed": false
   },
   "outputs": [],
   "source": [
    "#env = GymEnv(\"LunarLanderContinuous-v2\");\n",
    "env = GymEnv(\"LunarLander-v2\");"
   ]
  },
  {
   "cell_type": "code",
   "execution_count": 6,
   "metadata": {
    "collapsed": false
   },
   "outputs": [
    {
     "name": "stdout",
     "output_type": "stream",
     "text": [
      "reloading:1\n",
      "reloading:2\n",
      "reloading:3\n",
      "reloading:4\n",
      "reloading:5\n",
      "reloading:6\n",
      "reloading:7\n",
      "reloading:8\n",
      "reloading:9\n",
      "reloading:10\n",
      "reloading:11\n",
      "reloading:12\n",
      "reloading:13\n",
      "reloading:14\n",
      "reloading:15\n",
      "reloading:16\n",
      "reloading:17\n",
      "reloading:18\n",
      "reloading:19\n",
      "reloading:20\n",
      "reloading:21\n",
      "reloading:22\n",
      "reloading:23\n",
      "reloading:24\n",
      "reloading:25\n",
      "reloading:26\n",
      "reloading:27\n",
      "reloading:28\n",
      "reloading:29\n",
      "reloading:30\n",
      "reloading:31\n",
      "reloading:32\n",
      "reloading:33\n",
      "reloading:34\n",
      "reloading:35\n",
      "reloading:36\n",
      "reloading:37\n",
      "reloading:38\n",
      "reloading:39\n",
      "reloading:40\n",
      "reloading:41\n",
      "reloading:42\n",
      "reloading:43\n",
      "reloading:44\n",
      "reloading:45\n",
      "reloading:46\n",
      "reloading:47\n",
      "reloading:48\n",
      "reloading:49\n",
      "reloading:50\n",
      "reloading:51\n",
      "reloading:52\n",
      "reloading:53\n",
      "reloading:54\n",
      "reloading:55\n",
      "reloading:56\n",
      "reloading:57\n",
      "reloading:58\n",
      "reloading:59\n",
      "reloading:60\n",
      "reloading:61\n",
      "reloading:62\n",
      "reloading:63\n",
      "reloading:64\n",
      "reloading:65\n",
      "reloading:66\n",
      "reloading:67\n",
      "reloading:68\n",
      "reloading:69\n",
      "reloading:70\n",
      "reloading:71\n",
      "reloading:72\n",
      "reloading:73\n",
      "reloading:74\n",
      "reloading:75\n",
      "reloading:76\n",
      "reloading:77\n",
      "reloading:78\n",
      "reloading:79\n",
      "reloading:80\n",
      "reloading:81\n",
      "reloading:82\n",
      "reloading:83\n",
      "reloading:84\n",
      "reloading:85\n",
      "reloading:86\n",
      "reloading:87\n",
      "reloading:88\n",
      "reloading:89\n",
      "reloading:90\n",
      "reloading:91\n",
      "reloading:92\n",
      "reloading:93\n",
      "reloading:94\n",
      "reloading:95\n",
      "reloading:96\n",
      "reloading:97\n",
      "reloading:98\n",
      "reloading:99\n",
      "reloading:100\n",
      "reloading:101\n",
      "reloading:102\n",
      "reloading:103\n",
      "reloading:104\n",
      "reloading:105\n",
      "reloading:106\n",
      "reloading:107\n",
      "reloading:108\n",
      "reloading:109\n",
      "reloading:110\n",
      "reloading:111\n",
      "reloading:112\n",
      "reloading:113\n",
      "reloading:114\n",
      "reloading:115\n",
      "reloading:116\n",
      "reloading:117\n",
      "reloading:118\n",
      "reloading:119\n",
      "reloading:120\n",
      "reloading:121\n",
      "reloading:122\n",
      "reloading:123\n",
      "reloading:124\n",
      "reloading:125\n",
      "reloading:126\n",
      "reloading:127\n",
      "reloading:128\n",
      "reloading:129\n",
      "reloading:130\n",
      "reloading:131\n",
      "reloading:132\n",
      "reloading:133\n",
      "reloading:134\n",
      "reloading:135\n",
      "reloading:136\n",
      "reloading:137\n",
      "reloading:138\n",
      "reloading:139\n",
      "reloading:140\n",
      "reloading:141\n",
      "reloading:142\n",
      "reloading:143\n",
      "reloading:144\n",
      "reloading:145\n",
      "reloading:146\n",
      "reloading:147\n",
      "reloading:148\n",
      "reloading:149\n",
      "reloading:150\n",
      "reloading:151\n",
      "reloading:152\n",
      "reloading:153\n",
      "reloading:154\n",
      "reloading:155\n",
      "reloading:156\n",
      "reloading:157\n",
      "reloading:158\n",
      "reloading:159\n",
      "reloading:160\n",
      "reloading:161\n",
      "reloading:162\n",
      "reloading:163\n",
      "reloading:164\n",
      "reloading:165\n",
      "reloading:166\n",
      "reloading:167\n",
      "reloading:168\n",
      "reloading:169\n",
      "reloading:170\n",
      "reloading:171\n",
      "reloading:172\n",
      "reloading:173\n",
      "reloading:174\n",
      "reloading:175\n",
      "reloading:176\n",
      "reloading:177\n",
      "reloading:178\n",
      "reloading:179\n",
      "reloading:180\n",
      "reloading:181\n",
      "reloading:182\n",
      "reloading:183\n",
      "reloading:184\n",
      "reloading:185\n",
      "reloading:186\n",
      "reloading:187\n",
      "reloading:188\n",
      "reloading:189\n",
      "reloading:190\n",
      "reloading:191\n",
      "reloading:192\n",
      "reloading:193\n",
      "reloading:194\n",
      "reloading:195\n",
      "reloading:196\n",
      "reloading:197\n",
      "reloading:198\n",
      "reloading:199\n",
      "reloading:200\n",
      "reloading:201\n",
      "reloading:202\n",
      "reloading:203\n",
      "reloading:204\n",
      "reloading:205\n",
      "reloading:206\n",
      "reloading:207\n",
      "reloading:208\n",
      "reloading:209\n",
      "reloading:210\n",
      "reloading:211\n",
      "reloading:212\n",
      "reloading:213\n",
      "reloading:214\n",
      "reloading:215\n",
      "reloading:216\n",
      "reloading:217\n",
      "reloading:218\n",
      "reloading:219\n",
      "reloading:220\n",
      "reloading:221\n",
      "reloading:222\n",
      "reloading:223\n",
      "reloading:224\n",
      "reloading:225\n",
      "reloading:226\n",
      "reloading:227\n",
      "reloading:228\n",
      "reloading:229\n",
      "reloading:230\n",
      "reloading:231\n",
      "reloading:232\n",
      "reloading:233\n",
      "reloading:234\n",
      "reloading:235\n",
      "reloading:236\n",
      "reloading:237\n",
      "reloading:238\n",
      "reloading:239\n",
      "reloading:240\n",
      "reloading:241\n",
      "reloading:242\n",
      "reloading:243\n",
      "reloading:244\n",
      "reloading:245\n",
      "reloading:246\n",
      "reloading:247\n",
      "reloading:248\n",
      "reloading:249\n",
      "reloading:250\n",
      "reloading:251\n",
      "reloading:252\n",
      "reloading:253\n",
      "reloading:254\n",
      "reloading:255\n",
      "reloading:256\n",
      "reloading:257\n",
      "reloading:258\n",
      "reloading:259\n",
      "reloading:260\n",
      "reloading:261\n",
      "reloading:262\n",
      "reloading:263\n",
      "reloading:264\n",
      "reloading:265\n",
      "reloading:266\n",
      "reloading:267\n",
      "reloading:268\n",
      "reloading:269\n",
      "reloading:270\n",
      "reloading:271\n",
      "reloading:272\n",
      "reloading:273\n",
      "reloading:274\n",
      "reloading:275\n",
      "reloading:276\n",
      "reloading:277\n",
      "reloading:278\n",
      "reloading:279\n",
      "reloading:280\n",
      "reloading:281\n",
      "reloading:282\n",
      "reloading:283\n",
      "reloading:284\n",
      "reloading:285\n",
      "reloading:286\n",
      "reloading:287\n",
      "reloading:288\n",
      "reloading:289\n",
      "reloading:290\n",
      "reloading:291\n",
      "reloading:292\n",
      "reloading:293\n",
      "reloading:294\n",
      "reloading:295\n",
      "reloading:296\n",
      "reloading:297\n",
      "reloading:298\n",
      "reloading:299\n",
      "reloading:300\n",
      "reloading:301\n",
      "reloading:302\n",
      "reloading:303\n",
      "reloading:304\n",
      "reloading:305\n",
      "reloading:306\n",
      "reloading:307\n",
      "reloading:308\n",
      "reloading:309\n",
      "reloading:310\n",
      "reloading:311\n",
      "reloading:312\n",
      "reloading:313\n",
      "reloading:314\n",
      "reloading:315\n",
      "reloading:316\n",
      "reloading:317\n",
      "reloading:318\n",
      "reloading:319\n",
      "reloading:320\n",
      "reloading:321\n",
      "reloading:322\n",
      "reloading:323\n",
      "reloading:324\n",
      "reloading:325\n",
      "reloading:326\n",
      "reloading:327\n",
      "reloading:328\n",
      "reloading:329\n",
      "reloading:330\n",
      "reloading:331\n",
      "reloading:332\n",
      "reloading:333\n",
      "reloading:334\n",
      "reloading:335\n"
     ]
    },
    {
     "ename": "InterruptException",
     "evalue": "InterruptException:",
     "output_type": "error",
     "traceback": [
      "InterruptException:",
      "",
      "Stacktrace:",
      " [1] sigatomic_end at ./c.jl:425 [inlined]",
      " [2] macro expansion at /home/andy/.julia/packages/PyCall/0jMpb/src/exception.jl:84 [inlined]",
      " [3] __pycall!(::PyCall.PyObject, ::Ptr{PyCall.PyObject_struct}, ::PyCall.PyObject, ::Ptr{Nothing}) at /home/andy/.julia/packages/PyCall/0jMpb/src/pyfncall.jl:44",
      " [4] _pycall!(::PyCall.PyObject, ::PyCall.PyObject, ::Tuple{String}, ::Int64, ::Ptr{Nothing}) at /home/andy/.julia/packages/PyCall/0jMpb/src/pyfncall.jl:22",
      " [5] #call#89 at /home/andy/.julia/packages/PyCall/0jMpb/src/pyfncall.jl:11 [inlined]",
      " [6] (::PyCall.PyObject)(::String) at /home/andy/.julia/packages/PyCall/0jMpb/src/pyfncall.jl:89",
      " [7] #render#1(::String, ::Function, ::GymEnv) at /home/andy/.julia/packages/Gym/pgnnb/src/env.jl:39",
      " [8] render at /home/andy/.julia/packages/Gym/pgnnb/src/env.jl:39 [inlined]",
      " [9] top-level scope at ./In[6]:13"
     ]
    }
   ],
   "source": [
    "loads=0\n",
    "while true\n",
    "    loads+=1\n",
    "    println(\"reloading:\",loads)\n",
    "    model=JLD.load(\"model.jld\")\n",
    "    #model=JLD.load(\"policyparams.jld\")\n",
    "    #opt=JLD.load(\"opt.jld\")\n",
    "\n",
    "    for episode=1:5\n",
    "        x = reset!(env)\n",
    "        terminal=false\n",
    "        while !terminal\n",
    "            render(env)\n",
    "            q, p, action = policy(x, model)\n",
    "            #action = argmax(p[:])\n",
    "            x_next, reward, terminal, information = step!(env, action-1)\n",
    "            \n",
    "            x = copy(x_next) #move agent\n",
    "        end\n",
    "    end\n",
    "end"
   ]
  },
  {
   "cell_type": "code",
   "execution_count": null,
   "metadata": {
    "collapsed": false
   },
   "outputs": [],
   "source": [
    "x = reset!(env)\n",
    "goargmax=true\n",
    "println(\"reloading\")\n",
    "model=JLD.load(\"model.jld\")\n",
    "#model=JLD.load(\"policyparams.jld\")\n",
    "#opt=JLD.load(\"opt.jld\")"
   ]
  },
  {
   "cell_type": "code",
   "execution_count": null,
   "metadata": {
    "collapsed": false
   },
   "outputs": [],
   "source": [
    "render(env)\n",
    "q, p, action = policy(x, model, goargmax)\n",
    "x_next, reward, terminal, information = step!(env, action-1)\n",
    "x = x_next #move agent\n",
    "println(terminal,\" \", reward)\n",
    "x_next\n",
    "q"
   ]
  },
  {
   "cell_type": "code",
   "execution_count": null,
   "metadata": {
    "collapsed": false
   },
   "outputs": [],
   "source": [
    "z1 = elu.(model[\"W\"][1]*x .+ model[\"b\"][1])"
   ]
  },
  {
   "cell_type": "code",
   "execution_count": null,
   "metadata": {
    "collapsed": false
   },
   "outputs": [],
   "source": [
    "elu.(model[\"W\"][1]*x)"
   ]
  },
  {
   "cell_type": "code",
   "execution_count": null,
   "metadata": {
    "collapsed": false
   },
   "outputs": [],
   "source": [
    "z2 = model[\"W\"][2]*z1 .+ model[\"b\"][2]"
   ]
  },
  {
   "cell_type": "code",
   "execution_count": null,
   "metadata": {
    "collapsed": false
   },
   "outputs": [],
   "source": [
    "model[\"b\"][1]"
   ]
  },
  {
   "cell_type": "code",
   "execution_count": null,
   "metadata": {
    "collapsed": true
   },
   "outputs": [],
   "source": []
  }
 ],
 "metadata": {
  "kernelspec": {
   "display_name": "Julia 1.0.1",
   "language": "julia",
   "name": "julia-1.0"
  },
  "language_info": {
   "file_extension": ".jl",
   "mimetype": "application/julia",
   "name": "julia",
   "version": "1.0.1"
  }
 },
 "nbformat": 4,
 "nbformat_minor": 2
}
