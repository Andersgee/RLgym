{
 "cells": [
  {
   "cell_type": "code",
   "execution_count": 1,
   "metadata": {
    "collapsed": false
   },
   "outputs": [],
   "source": [
    "using Flux\n",
    "using Distributions: wsample, std, mean\n",
    "using LinearAlgebra\n",
    "using Gym\n",
    "import JLD"
   ]
  },
  {
   "cell_type": "code",
   "execution_count": 2,
   "metadata": {
    "collapsed": false
   },
   "outputs": [
    {
     "data": {
      "text/plain": [
       "criticparams (generic function with 1 method)"
      ]
     },
     "execution_count": 2,
     "metadata": {},
     "output_type": "execute_result"
    }
   ],
   "source": [
    "include(\"common.jl\")\n",
    "include(\"model.jl\")"
   ]
  },
  {
   "cell_type": "code",
   "execution_count": 3,
   "metadata": {
    "collapsed": false
   },
   "outputs": [],
   "source": [
    "#env = GymEnv(\"LunarLanderContinuous-v2\");\n",
    "env = GymEnv(\"LunarLander-v2\");"
   ]
  },
  {
   "cell_type": "code",
   "execution_count": null,
   "metadata": {
    "collapsed": false
   },
   "outputs": [],
   "source": [
    "loads=0\n",
    "while true\n",
    "    loads+=1\n",
    "    println(\"reloading:\",loads)\n",
    "    amodel=JLD.load(\"amodel.jld\")\n",
    "    #model=JLD.load(\"policyparams.jld\")\n",
    "    #opt=JLD.load(\"opt.jld\")\n",
    "\n",
    "    for episode=1:5\n",
    "        x = reset!(env)\n",
    "        terminal=false\n",
    "        while !terminal\n",
    "            render(env)\n",
    "            logitp = actor(x, amodel)\n",
    "            action = wsample(softmax(logitp.data)[:])\n",
    "            #action = argmax(softmax(logitp.data)[:])\n",
    "            x, reward, terminal, information = step!(env, action-1)\n",
    "        end\n",
    "    end\n",
    "end"
   ]
  },
  {
   "cell_type": "code",
   "execution_count": null,
   "metadata": {
    "collapsed": false
   },
   "outputs": [],
   "source": [
    "x = reset!(env)\n",
    "goargmax=true\n",
    "println(\"reloading\")\n",
    "model=JLD.load(\"model.jld\")\n",
    "#model=JLD.load(\"policyparams.jld\")\n",
    "#opt=JLD.load(\"opt.jld\")"
   ]
  },
  {
   "cell_type": "code",
   "execution_count": null,
   "metadata": {
    "collapsed": false
   },
   "outputs": [],
   "source": [
    "render(env)\n",
    "q, p, action = policy(x, model, goargmax)\n",
    "x_next, reward, terminal, information = step!(env, action-1)\n",
    "x = x_next #move agent\n",
    "println(terminal,\" \", reward)\n",
    "x_next\n",
    "q"
   ]
  },
  {
   "cell_type": "code",
   "execution_count": null,
   "metadata": {
    "collapsed": false
   },
   "outputs": [],
   "source": [
    "z1 = elu.(model[\"W\"][1]*x .+ model[\"b\"][1])"
   ]
  },
  {
   "cell_type": "code",
   "execution_count": null,
   "metadata": {
    "collapsed": false
   },
   "outputs": [],
   "source": [
    "elu.(model[\"W\"][1]*x)"
   ]
  },
  {
   "cell_type": "code",
   "execution_count": null,
   "metadata": {
    "collapsed": false
   },
   "outputs": [],
   "source": [
    "z2 = model[\"W\"][2]*z1 .+ model[\"b\"][2]"
   ]
  },
  {
   "cell_type": "code",
   "execution_count": null,
   "metadata": {
    "collapsed": false
   },
   "outputs": [],
   "source": [
    "model[\"b\"][1]"
   ]
  },
  {
   "cell_type": "code",
   "execution_count": null,
   "metadata": {
    "collapsed": true
   },
   "outputs": [],
   "source": []
  }
 ],
 "metadata": {
  "kernelspec": {
   "display_name": "Julia 1.0.1",
   "language": "julia",
   "name": "julia-1.0"
  },
  "language_info": {
   "file_extension": ".jl",
   "mimetype": "application/julia",
   "name": "julia",
   "version": "1.0.1"
  }
 },
 "nbformat": 4,
 "nbformat_minor": 2
}
